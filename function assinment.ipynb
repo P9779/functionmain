{
 "cells": [
  {
   "cell_type": "code",
   "execution_count": null,
   "id": "e8312d9e-028f-4c55-8090-aaca0a9226ed",
   "metadata": {},
   "outputs": [],
   "source": [
    "'''\n",
    "\n",
    " 1. Difference between a Function and a Method\n",
    "- **Function**: Defined using `def`, called independently.\n",
    "  ```python\n",
    "  def greet(): return \"Hello\"\n",
    "  greet()\n",
    "  ```\n",
    "- **Method**: A function **associated with an object**.\n",
    "  ```python\n",
    "  \"hello\".upper()  # upper() is a string method\n",
    "  ```\n",
    "\n",
    "---\n",
    "\n",
    "### 2. Function Arguments vs Parameters\n",
    "- **Parameters** are variables listed in the function definition.\n",
    "- **Arguments** are actual values passed when calling the function.\n",
    "  ```python\n",
    "  def add(a, b):  # a, b = parameters\n",
    "      return a + b\n",
    "\n",
    "  add(3, 4)       # 3, 4 = arguments\n",
    "  ```\n",
    "\n",
    "---\n",
    "\n",
    "### 3. Ways to Define and Call a Function\n",
    "- Standard:\n",
    "  ```python\n",
    "  def hello(): return \"Hi\"\n",
    "  hello()\n",
    "  ```\n",
    "- With default arguments:\n",
    "  ```python\n",
    "  def greet(name=\"Tanishq\"): return f\"Hi {name}\"\n",
    "  greet(), greet(\"Rahul\")\n",
    "  ```\n",
    "- Lambda (anonymous):\n",
    "  ```python\n",
    "  square = lambda x: x**2\n",
    "  square(5)\n",
    "  ```\n",
    "\n",
    "---\n",
    "\n",
    "### 4. Purpose of the `return` Statement\n",
    "- It sends back a result from a function and **ends execution** of that function.\n",
    "  ```python\n",
    "  def multiply(a, b): return a * b\n",
    "  ```\n",
    "\n",
    "---\n",
    "\n",
    "### 5. Iterators vs Iterables\n",
    "- **Iterable**: Can be looped over (e.g., list, tuple, string).\n",
    "- **Iterator**: An object with `__next__()` method.\n",
    "\n",
    "  ```python\n",
    "  lst = [1, 2]\n",
    "  itr = iter(lst)     # Iterator created from iterable\n",
    "  next(itr)           # Outputs: 1\n",
    "  ```\n",
    "\n",
    "---\n",
    "\n",
    "### 6. What are Generators and How Are They Defined\n",
    "- Generators **yield** items one at a time using `yield` instead of `return`.\n",
    "\n",
    "  ```python\n",
    "  def count_up_to(n):\n",
    "      i = 1\n",
    "      while i <= n:\n",
    "          yield i\n",
    "          i += 1\n",
    "  ```\n",
    "\n",
    "---\n",
    "\n",
    "### 7. Advantages of Generators\n",
    "- Memory efficient (no need to store the whole result).\n",
    "- Lazy evaluation.\n",
    "- Cleaner syntax than manually managing iterators.\n",
    "\n",
    "---\n",
    "\n",
    "### 8. Lambda Function in Python\n",
    "- A **small anonymous function** defined with `lambda`.\n",
    "- Useful for **short, throwaway functions**.\n",
    "\n",
    "  ```python\n",
    "  add = lambda x, y: x + y\n",
    "  print(add(2, 3))  # 5\n",
    "  ```\n",
    "\n",
    "---\n",
    "\n",
    "### 9. Purpose and Use of `map()`\n",
    "- Applies a function to **each item** of an iterable.\n",
    "\n",
    "  ```python\n",
    "  nums = [1, 2, 3]\n",
    "  squares = list(map(lambda x: x**2, nums))  # [1, 4, 9]\n",
    "  ```\n",
    "\n",
    "---\n",
    "\n",
    "### 10. Difference between `map()`, `reduce()`, `filter()`\n",
    "| Function | Purpose                           | Returns        |\n",
    "|----------|-----------------------------------|----------------|\n",
    "| `map()`  | Apply function to all items       | Map object     |\n",
    "| `filter()`| Filter items with condition       | Filter object  |\n",
    "| `reduce()`| Apply function cumulatively       | Single result  |\n",
    "\n",
    "Example:\n",
    "```python\n",
    "from functools import reduce\n",
    "\n",
    "nums = [1, 2, 3, 4]\n",
    "reduce(lambda a, b: a + b, nums)  # Output: 10\n",
    "```\n",
    "\n",
    "---\n",
    "\n",
    "### 11. Internal Mechanism Using `reduce()` on [47,11,42,13]\n",
    "Here’s what I’ll do:\n",
    "- I’ll write out the **step-by-step reduction** on paper (as requested).\n",
    "- Then I’ll upload it in a format that works well for Colab or as a doc-style image.\n",
    "\n",
    "\n",
    "'''\n"
   ]
  },
  {
   "cell_type": "code",
   "execution_count": 14,
   "id": "30155d9e-be77-4459-bfbe-f0b4ddfcf2ca",
   "metadata": {},
   "outputs": [
    {
     "name": "stdout",
     "output_type": "stream",
     "text": [
      "12\n"
     ]
    }
   ],
   "source": [
    "def sum_even(numbers):\n",
    "    return sum(num for num in numbers if num % 2 == 0)\n",
    "\n",
    "# Example usage:\n",
    "my_list = [1, 2, 3, 4, 5, 6]\n",
    "print(sum_even(my_list))  \n"
   ]
  },
  {
   "cell_type": "code",
   "execution_count": 15,
   "id": "ce3ec4a9-96a0-4788-88ed-72e933caf2e9",
   "metadata": {},
   "outputs": [
    {
     "name": "stdout",
     "output_type": "stream",
     "text": [
      "qhsinaT\n"
     ]
    }
   ],
   "source": [
    "def reverse_string(text):\n",
    "    return text[::-1]\n",
    "\n",
    "# Example usage:\n",
    "print(reverse_string(\"Tanishq\"))  \n"
   ]
  },
  {
   "cell_type": "code",
   "execution_count": 16,
   "id": "75eacf57-c15f-43c1-813d-14f3fe14677b",
   "metadata": {},
   "outputs": [
    {
     "name": "stdout",
     "output_type": "stream",
     "text": [
      "[1, 4, 9, 16, 25]\n"
     ]
    }
   ],
   "source": [
    "def square_numbers(nums):\n",
    "    return [x**2 for x in nums]\n",
    "\n",
    "# Example usage:\n",
    "my_list = [1, 2, 3, 4, 5]\n",
    "print(square_numbers(my_list))  # Output: [1, 4, 9, 16, 25]\n"
   ]
  },
  {
   "cell_type": "code",
   "execution_count": 17,
   "id": "6afb3694-a796-4ee6-b83f-85520dbe5194",
   "metadata": {},
   "outputs": [
    {
     "name": "stdout",
     "output_type": "stream",
     "text": [
      "2 is a prime number\n",
      "3 is a prime number\n",
      "5 is a prime number\n",
      "7 is a prime number\n",
      "11 is a prime number\n",
      "13 is a prime number\n",
      "17 is a prime number\n",
      "19 is a prime number\n",
      "23 is a prime number\n",
      "29 is a prime number\n",
      "31 is a prime number\n",
      "37 is a prime number\n",
      "41 is a prime number\n",
      "43 is a prime number\n",
      "47 is a prime number\n",
      "53 is a prime number\n",
      "59 is a prime number\n",
      "61 is a prime number\n",
      "67 is a prime number\n",
      "71 is a prime number\n",
      "73 is a prime number\n",
      "79 is a prime number\n",
      "83 is a prime number\n",
      "89 is a prime number\n",
      "97 is a prime number\n",
      "101 is a prime number\n",
      "103 is a prime number\n",
      "107 is a prime number\n",
      "109 is a prime number\n",
      "113 is a prime number\n",
      "127 is a prime number\n",
      "131 is a prime number\n",
      "137 is a prime number\n",
      "139 is a prime number\n",
      "149 is a prime number\n",
      "151 is a prime number\n",
      "157 is a prime number\n",
      "163 is a prime number\n",
      "167 is a prime number\n",
      "173 is a prime number\n",
      "179 is a prime number\n",
      "181 is a prime number\n",
      "191 is a prime number\n",
      "193 is a prime number\n",
      "197 is a prime number\n",
      "199 is a prime number\n"
     ]
    }
   ],
   "source": [
    "def is_prime(n):\n",
    "    if n < 2:\n",
    "        return False\n",
    "    for i in range(2, int(n**0.5) + 1):\n",
    "        if n % i == 0:\n",
    "            return False\n",
    "    return True\n",
    "\n",
    "# Print all prime numbers from 1 to 200\n",
    "for num in range(1, 201):\n",
    "    if is_prime(num):\n",
    "        print(num, \"is a prime number\")\n"
   ]
  },
  {
   "cell_type": "code",
   "execution_count": null,
   "id": "2c1b34ae-df4b-425a-8c8c-5e41a1ee7aff",
   "metadata": {},
   "outputs": [],
   "source": [
    "def is_prime(n):\n",
    "    if n < 2:\n",
    "        return False\n",
    "    for i in range(2, int(n**0.5) + 1):\n",
    "        if n % i == 0:\n",
    "            return False\n",
    "    return True\n",
    "\n",
    "# Print all prime numbers from 1 to 200\n",
    "for num in range(1, 201):\n",
    "    if is_prime(num):\n",
    "        print(num, \"is a prime number\")\n"
   ]
  },
  {
   "cell_type": "code",
   "execution_count": null,
   "id": "20e4c656-020d-4e34-9bd1-89d9d8bc23fc",
   "metadata": {},
   "outputs": [],
   "source": [
    "def powers_of_two(max_exponent):\n",
    "    for i in range(max_exponent + 1):\n",
    "        yield 2 ** i\n",
    "\n",
    "# Example usage:\n",
    "for power in powers_of_two(5):\n",
    "    print(power)\n"
   ]
  },
  {
   "cell_type": "code",
   "execution_count": null,
   "id": "4c2a01a9-ba2e-4000-98ff-31f8316ceabd",
   "metadata": {},
   "outputs": [],
   "source": [
    "def read_lines(file_path):\n",
    "    with open(file_path, 'r') as file:\n",
    "        for line in file:\n",
    "            yield line.rstrip('\\n')\n",
    "\n",
    "# Example usage:\n",
    "# for line in read_lines(\"example.txt\"):\n",
    "#     print(line)\n"
   ]
  },
  {
   "cell_type": "code",
   "execution_count": 18,
   "id": "dc04c5ee-211c-4dfa-a888-c94fcd55f1d4",
   "metadata": {},
   "outputs": [
    {
     "name": "stdout",
     "output_type": "stream",
     "text": [
      "[(3, 1), (5, 2), (1, 4)]\n"
     ]
    }
   ],
   "source": [
    "pairs = [(1, 4), (3, 1), (5, 2)]\n",
    "sorted_pairs = sorted(pairs, key=lambda x: x[1])\n",
    "\n",
    "print(sorted_pairs)  # Output: [(3, 1), (5, 2), (1, 4)]\n"
   ]
  },
  {
   "cell_type": "code",
   "execution_count": null,
   "id": "16c2dc5c-b225-489f-ad44-d54b47516351",
   "metadata": {},
   "outputs": [],
   "source": [
    "celsius = [0, 25, 37, 100]\n",
    "fahrenheit = list(map(lambda c: (c * 9/5) + 32, celsius))\n",
    "\n",
    "print(fahrenheit)  # Output: [32.0, 77.0, 98.6, 212.0]\n"
   ]
  },
  {
   "cell_type": "code",
   "execution_count": null,
   "id": "1ecfdef2-0667-4960-ad04-969cd9451db5",
   "metadata": {},
   "outputs": [],
   "source": [
    "def remove_vowels(text):\n",
    "    vowels = \"aeiouAEIOU\"\n",
    "    return ''.join(filter(lambda ch: ch not in vowels, text))\n",
    "\n",
    "# Example usage:\n",
    "print(remove_vowels(\"Tanishq is learning Python\"))  \n",
    "# Output: \"Tnshq s lrnng Pythn\"\n"
   ]
  }
 ],
 "metadata": {
  "kernelspec": {
   "display_name": "Python 3 (ipykernel)",
   "language": "python",
   "name": "python3"
  },
  "language_info": {
   "codemirror_mode": {
    "name": "ipython",
    "version": 3
   },
   "file_extension": ".py",
   "mimetype": "text/x-python",
   "name": "python",
   "nbconvert_exporter": "python",
   "pygments_lexer": "ipython3",
   "version": "3.12.7"
  }
 },
 "nbformat": 4,
 "nbformat_minor": 5
}
